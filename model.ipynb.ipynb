{
 "cells": [
  {
   "cell_type": "markdown",
   "source": "### References \nhttps://www.analyticsvidhya.com/blog/2021/07/age-and-gender-detection-using-deep-learning/",
   "metadata": {
    "cell_id": "4abf2e7b31274988b689d7f2f15bfdcf",
    "tags": [],
    "deepnote_cell_type": "markdown",
    "deepnote_cell_height": 122.78125
   }
  },
  {
   "cell_type": "code",
   "metadata": {
    "cell_id": "b72bb0e479af46f18b0a6236b46014b8",
    "tags": [],
    "deepnote_to_be_reexecuted": false,
    "source_hash": "f8f64434",
    "execution_start": 1656289848411,
    "execution_millis": 728377,
    "deepnote_cell_type": "code",
    "deepnote_cell_height": 791
   },
   "source": "# Run this before starting \n!pip install keras_applications \n!pip install face_recognition\n!pip install opencv-python\n!apt-get update && apt-get install libgl1 -y\n",
   "execution_count": null,
   "outputs": [
    {
     "name": "stdout",
     "text": "Collecting keras_applications\n  Downloading Keras_Applications-1.0.8-py3-none-any.whl (50 kB)\n\u001b[2K     \u001b[90m━━━━━━━━━━━━━━━━━━━━━━━━━━━━━━━━━━━━━━━━\u001b[0m \u001b[32m50.7/50.7 KB\u001b[0m \u001b[31m4.1 MB/s\u001b[0m eta \u001b[36m0:00:00\u001b[0m\n\u001b[?25hRequirement already satisfied: numpy>=1.9.1 in /shared-libs/python3.9/py/lib/python3.9/site-packages (from keras_applications) (1.22.4)\nRequirement already satisfied: h5py in /shared-libs/python3.9/py/lib/python3.9/site-packages (from keras_applications) (3.7.0)\nInstalling collected packages: keras_applications\nSuccessfully installed keras_applications-1.0.8\n\u001b[33mWARNING: You are using pip version 22.0.4; however, version 22.1.2 is available.\nYou should consider upgrading via the '/root/venv/bin/python -m pip install --upgrade pip' command.\u001b[0m\u001b[33m\n\u001b[0mCollecting face_recognition\n  Downloading face_recognition-1.3.0-py2.py3-none-any.whl (15 kB)\nRequirement already satisfied: Pillow in /shared-libs/python3.9/py/lib/python3.9/site-packages (from face_recognition) (9.1.1)\nRequirement already satisfied: numpy in /shared-libs/python3.9/py/lib/python3.9/site-packages (from face_recognition) (1.22.4)\nCollecting face-recognition-models>=0.3.0\n  Downloading face_recognition_models-0.3.0.tar.gz (100.1 MB)\n\u001b[2K     \u001b[90m━━━━━━━━━━━━━━━━━━━━━━━━━━━━━━━━━━━━━━\u001b[0m \u001b[32m100.1/100.1 MB\u001b[0m \u001b[31m16.6 MB/s\u001b[0m eta \u001b[36m0:00:00\u001b[0m\n\u001b[?25h  Preparing metadata (setup.py) ... \u001b[?25ldone\n\u001b[?25hRequirement already satisfied: Click>=6.0 in /shared-libs/python3.9/py/lib/python3.9/site-packages (from face_recognition) (8.1.3)\nCollecting dlib>=19.7\n  Downloading dlib-19.24.0.tar.gz (3.2 MB)\n\u001b[2K     \u001b[90m━━━━━━━━━━━━━━━━━━━━━━━━━━━━━━━━━━━━━━━━\u001b[0m \u001b[32m3.2/3.2 MB\u001b[0m \u001b[31m32.4 MB/s\u001b[0m eta \u001b[36m0:00:00\u001b[0m\n\u001b[?25h  Preparing metadata (setup.py) ... \u001b[?25ldone\n\u001b[?25hBuilding wheels for collected packages: dlib, face-recognition-models\n  Building wheel for dlib (setup.py) ... \u001b[?25ldone\n\u001b[?25h  Created wheel for dlib: filename=dlib-19.24.0-cp39-cp39-linux_x86_64.whl size=4365264 sha256=c0212a505703b9e67d9eb3e7c7ddd11cbbb5a02de9b50c2573307676de61fbfa\n  Stored in directory: /root/.cache/pip/wheels/2e/49/d4/7ca6193a44aeabf8027d79c7e78a861166e630ba3c67d17c78\n  Building wheel for face-recognition-models (setup.py) ... \u001b[?25ldone\n\u001b[?25h  Created wheel for face-recognition-models: filename=face_recognition_models-0.3.0-py2.py3-none-any.whl size=100566186 sha256=7bb3eeac4f3ae1fc51a1570830f5d949e93076a0a65f32cb6922559440e7e3b1\n  Stored in directory: /root/.cache/pip/wheels/22/a8/60/4a2aeb763d63f50190f4c4e07069a22245347eeafdb3a67551\nSuccessfully built dlib face-recognition-models\nInstalling collected packages: face-recognition-models, dlib, face_recognition\nSuccessfully installed dlib-19.24.0 face-recognition-models-0.3.0 face_recognition-1.3.0\n\u001b[33mWARNING: You are using pip version 22.0.4; however, version 22.1.2 is available.\nYou should consider upgrading via the '/root/venv/bin/python -m pip install --upgrade pip' command.\u001b[0m\u001b[33m\n\u001b[0mCollecting opencv-python\n  Downloading opencv_python-4.6.0.66-cp36-abi3-manylinux_2_17_x86_64.manylinux2014_x86_64.whl (60.9 MB)\n\u001b[2K     \u001b[90m━━━━━━━━━━━━━━━━━━━━━━━━━━━━━━━━━━━━━━━━\u001b[0m \u001b[32m60.9/60.9 MB\u001b[0m \u001b[31m36.2 MB/s\u001b[0m eta \u001b[36m0:00:00\u001b[0m\n\u001b[?25hRequirement already satisfied: numpy>=1.14.5 in /shared-libs/python3.9/py/lib/python3.9/site-packages (from opencv-python) (1.22.4)\nInstalling collected packages: opencv-python\nSuccessfully installed opencv-python-4.6.0.66\n\u001b[33mWARNING: You are using pip version 22.0.4; however, version 22.1.2 is available.\nYou should consider upgrading via the '/root/venv/bin/python -m pip install --upgrade pip' command.\u001b[0m\u001b[33m\nGet:1 http://deb.debian.org/debian buster InRelease [122 kB]\nGet:2 http://security.debian.org/debian-security buster/updates InRelease [65.4 kB]\nGet:3 http://deb.debian.org/debian buster-updates InRelease [51.9 kB]\nGet:4 http://security.debian.org/debian-security buster/updates/main amd64 Packages [329 kB]\nGet:5 http://deb.debian.org/debian buster/main amd64 Packages [7,911 kB]\nGet:6 http://deb.debian.org/debian buster-updates/main amd64 Packages [8,788 B]\nFetched 8,488 kB in 1s (5,776 kB/s)\n\n\n\n\nThe following additional packages will be installed:\n  libdrm-amdgpu1 libdrm-common libdrm-intel1 libdrm-nouveau2 libdrm-radeon1\n  libdrm2 libgl1-mesa-dri libglapi-mesa libglvnd0 libglx-mesa0 libglx0\n  libllvm7 libpciaccess0 libsensors-config libsensors5 libx11-xcb1\n  libxcb-dri2-0 libxcb-dri3-0 libxcb-glx0 libxcb-present0 libxcb-sync1\n  libxshmfence1 libxxf86vm1\nSuggested packages:\n  pciutils lm-sensors\nThe following NEW packages will be installed:\n  libdrm-amdgpu1 libdrm-common libdrm-intel1 libdrm-nouveau2 libdrm-radeon1\n  libdrm2 libgl1 libgl1-mesa-dri libglapi-mesa libglvnd0 libglx-mesa0 libglx0\n  libllvm7 libpciaccess0 libsensors-config libsensors5 libx11-xcb1\n  libxcb-dri2-0 libxcb-dri3-0 libxcb-glx0 libxcb-present0 libxcb-sync1\n  libxshmfence1 libxxf86vm1\n0 upgraded, 24 newly installed, 0 to remove and 2 not upgraded.\nNeed to get 21.2 MB of archives.\nAfter this operation, 214 MB of additional disk space will be used.\nGet:1 http://deb.debian.org/debian buster/main amd64 libdrm-common all 2.4.97-1 [13.8 kB]\nGet:2 http://deb.debian.org/debian buster/main amd64 libdrm2 amd64 2.4.97-1 [39.7 kB]\nGet:3 http://deb.debian.org/debian buster/main amd64 libdrm-amdgpu1 amd64 2.4.97-1 [27.3 kB]\nGet:4 http://deb.debian.org/debian buster/main amd64 libpciaccess0 amd64 0.14-1 [53.5 kB]\nGet:5 http://deb.debian.org/debian buster/main amd64 libdrm-intel1 amd64 2.4.97-1 [69.8 kB]\nGet:6 http://deb.debian.org/debian buster/main amd64 libdrm-nouveau2 amd64 2.4.97-1 [26.3 kB]\nGet:7 http://deb.debian.org/debian buster/main amd64 libdrm-radeon1 amd64 2.4.97-1 [31.1 kB]\nGet:8 http://deb.debian.org/debian buster/main amd64 libglapi-mesa amd64 18.3.6-2+deb10u1 [66.3 kB]\nGet:9 http://deb.debian.org/debian buster/main amd64 libllvm7 amd64 1:7.0.1-8+deb10u2 [13.1 MB]\nGet:10 http://deb.debian.org/debian buster/main amd64 libsensors-config all 1:3.5.0-3 [31.6 kB]\nGet:11 http://deb.debian.org/debian buster/main amd64 libsensors5 amd64 1:3.5.0-3 [52.6 kB]\nGet:12 http://deb.debian.org/debian buster/main amd64 libgl1-mesa-dri amd64 18.3.6-2+deb10u1 [6,685 kB]\nGet:13 http://deb.debian.org/debian buster/main amd64 libglvnd0 amd64 1.1.0-1 [48.6 kB]\nGet:14 http://deb.debian.org/debian buster/main amd64 libx11-xcb1 amd64 2:1.6.7-1+deb10u2 [191 kB]\nGet:15 http://deb.debian.org/debian buster/main amd64 libxcb-dri2-0 amd64 1.13.1-2 [101 kB]\nGet:16 http://deb.debian.org/debian buster/main amd64 libxcb-dri3-0 amd64 1.13.1-2 [100 kB]\nGet:17 http://deb.debian.org/debian buster/main amd64 libxcb-glx0 amd64 1.13.1-2 [116 kB]\nGet:18 http://deb.debian.org/debian buster/main amd64 libxcb-present0 amd64 1.13.1-2 [99.1 kB]\nGet:19 http://deb.debian.org/debian buster/main amd64 libxcb-sync1 amd64 1.13.1-2 [103 kB]\nGet:20 http://deb.debian.org/debian buster/main amd64 libxshmfence1 amd64 1.3-1 [8,820 B]\nGet:21 http://deb.debian.org/debian buster/main amd64 libxxf86vm1 amd64 1:1.1.4-1+b2 [20.8 kB]\nGet:22 http://deb.debian.org/debian buster/main amd64 libglx-mesa0 amd64 18.3.6-2+deb10u1 [180 kB]\nGet:23 http://deb.debian.org/debian buster/main amd64 libglx0 amd64 1.1.0-1 [30.0 kB]\nGet:24 http://deb.debian.org/debian buster/main amd64 libgl1 amd64 1.1.0-1 [91.1 kB]\nFetched 21.2 MB in 0s (107 MB/s)\ndebconf: delaying package configuration, since apt-utils is not installed\nSelecting previously unselected package libdrm-common.\n(Reading database ... 31086 files and directories currently installed.)\nPreparing to unpack .../00-libdrm-common_2.4.97-1_all.deb ...\nUnpacking libdrm-common (2.4.97-1) ...\nSelecting previously unselected package libdrm2:amd64.\nPreparing to unpack .../01-libdrm2_2.4.97-1_amd64.deb ...\nUnpacking libdrm2:amd64 (2.4.97-1) ...\nSelecting previously unselected package libdrm-amdgpu1:amd64.\nPreparing to unpack .../02-libdrm-amdgpu1_2.4.97-1_amd64.deb ...\nUnpacking libdrm-amdgpu1:amd64 (2.4.97-1) ...\nSelecting previously unselected package libpciaccess0:amd64.\nPreparing to unpack .../03-libpciaccess0_0.14-1_amd64.deb ...\nUnpacking libpciaccess0:amd64 (0.14-1) ...\nSelecting previously unselected package libdrm-intel1:amd64.\nPreparing to unpack .../04-libdrm-intel1_2.4.97-1_amd64.deb ...\nUnpacking libdrm-intel1:amd64 (2.4.97-1) ...\nSelecting previously unselected package libdrm-nouveau2:amd64.\nPreparing to unpack .../05-libdrm-nouveau2_2.4.97-1_amd64.deb ...\nUnpacking libdrm-nouveau2:amd64 (2.4.97-1) ...\nSelecting previously unselected package libdrm-radeon1:amd64.\nPreparing to unpack .../06-libdrm-radeon1_2.4.97-1_amd64.deb ...\nUnpacking libdrm-radeon1:amd64 (2.4.97-1) ...\nSelecting previously unselected package libglapi-mesa:amd64.\nPreparing to unpack .../07-libglapi-mesa_18.3.6-2+deb10u1_amd64.deb ...\nUnpacking libglapi-mesa:amd64 (18.3.6-2+deb10u1) ...\nSelecting previously unselected package libllvm7:amd64.\nPreparing to unpack .../08-libllvm7_1%3a7.0.1-8+deb10u2_amd64.deb ...\nUnpacking libllvm7:amd64 (1:7.0.1-8+deb10u2) ...\nSelecting previously unselected package libsensors-config.\nPreparing to unpack .../09-libsensors-config_1%3a3.5.0-3_all.deb ...\nUnpacking libsensors-config (1:3.5.0-3) ...\nSelecting previously unselected package libsensors5:amd64.\nPreparing to unpack .../10-libsensors5_1%3a3.5.0-3_amd64.deb ...\nUnpacking libsensors5:amd64 (1:3.5.0-3) ...\nSelecting previously unselected package libgl1-mesa-dri:amd64.\nPreparing to unpack .../11-libgl1-mesa-dri_18.3.6-2+deb10u1_amd64.deb ...\nUnpacking libgl1-mesa-dri:amd64 (18.3.6-2+deb10u1) ...\nSelecting previously unselected package libglvnd0:amd64.\nPreparing to unpack .../12-libglvnd0_1.1.0-1_amd64.deb ...\nUnpacking libglvnd0:amd64 (1.1.0-1) ...\nSelecting previously unselected package libx11-xcb1:amd64.\nPreparing to unpack .../13-libx11-xcb1_2%3a1.6.7-1+deb10u2_amd64.deb ...\nUnpacking libx11-xcb1:amd64 (2:1.6.7-1+deb10u2) ...\nSelecting previously unselected package libxcb-dri2-0:amd64.\nPreparing to unpack .../14-libxcb-dri2-0_1.13.1-2_amd64.deb ...\nUnpacking libxcb-dri2-0:amd64 (1.13.1-2) ...\nSelecting previously unselected package libxcb-dri3-0:amd64.\nPreparing to unpack .../15-libxcb-dri3-0_1.13.1-2_amd64.deb ...\nUnpacking libxcb-dri3-0:amd64 (1.13.1-2) ...\nSelecting previously unselected package libxcb-glx0:amd64.\nPreparing to unpack .../16-libxcb-glx0_1.13.1-2_amd64.deb ...\nUnpacking libxcb-glx0:amd64 (1.13.1-2) ...\nSelecting previously unselected package libxcb-present0:amd64.\nPreparing to unpack .../17-libxcb-present0_1.13.1-2_amd64.deb ...\nUnpacking libxcb-present0:amd64 (1.13.1-2) ...\nSelecting previously unselected package libxcb-sync1:amd64.\nPreparing to unpack .../18-libxcb-sync1_1.13.1-2_amd64.deb ...\nUnpacking libxcb-sync1:amd64 (1.13.1-2) ...\nSelecting previously unselected package libxshmfence1:amd64.\nPreparing to unpack .../19-libxshmfence1_1.3-1_amd64.deb ...\nUnpacking libxshmfence1:amd64 (1.3-1) ...\nSelecting previously unselected package libxxf86vm1:amd64.\nPreparing to unpack .../20-libxxf86vm1_1%3a1.1.4-1+b2_amd64.deb ...\nUnpacking libxxf86vm1:amd64 (1:1.1.4-1+b2) ...\nSelecting previously unselected package libglx-mesa0:amd64.\nPreparing to unpack .../21-libglx-mesa0_18.3.6-2+deb10u1_amd64.deb ...\nUnpacking libglx-mesa0:amd64 (18.3.6-2+deb10u1) ...\nSelecting previously unselected package libglx0:amd64.\nPreparing to unpack .../22-libglx0_1.1.0-1_amd64.deb ...\nUnpacking libglx0:amd64 (1.1.0-1) ...\nSelecting previously unselected package libgl1:amd64.\nPreparing to unpack .../23-libgl1_1.1.0-1_amd64.deb ...\nUnpacking libgl1:amd64 (1.1.0-1) ...\nSetting up libxcb-dri3-0:amd64 (1.13.1-2) ...\nSetting up libx11-xcb1:amd64 (2:1.6.7-1+deb10u2) ...\nSetting up libpciaccess0:amd64 (0.14-1) ...\nSetting up libglvnd0:amd64 (1.1.0-1) ...\nSetting up libxcb-glx0:amd64 (1.13.1-2) ...\nSetting up libsensors-config (1:3.5.0-3) ...\nSetting up libxxf86vm1:amd64 (1:1.1.4-1+b2) ...\nSetting up libxcb-present0:amd64 (1.13.1-2) ...\nSetting up libxcb-sync1:amd64 (1.13.1-2) ...\nSetting up libsensors5:amd64 (1:3.5.0-3) ...\nSetting up libglapi-mesa:amd64 (18.3.6-2+deb10u1) ...\nSetting up libxcb-dri2-0:amd64 (1.13.1-2) ...\nSetting up libxshmfence1:amd64 (1.3-1) ...\nSetting up libllvm7:amd64 (1:7.0.1-8+deb10u2) ...\nSetting up libdrm-common (2.4.97-1) ...\nSetting up libdrm2:amd64 (2.4.97-1) ...\nSetting up libdrm-amdgpu1:amd64 (2.4.97-1) ...\nSetting up libdrm-nouveau2:amd64 (2.4.97-1) ...\nSetting up libdrm-radeon1:amd64 (2.4.97-1) ...\nSetting up libdrm-intel1:amd64 (2.4.97-1) ...\nSetting up libgl1-mesa-dri:amd64 (18.3.6-2+deb10u1) ...\nSetting up libglx-mesa0:amd64 (18.3.6-2+deb10u1) ...\nSetting up libglx0:amd64 (1.1.0-1) ...\nSetting up libgl1:amd64 (1.1.0-1) ...\nProcessing triggers for libc-bin (2.28-10+deb10u1) ...\n",
     "output_type": "stream"
    }
   ]
  },
  {
   "cell_type": "markdown",
   "source": "## Dataset\nUTK Dataset comprises age, gender, images, and pixels in .csv format. Age and gender detection according to the images have been researched for a long time",
   "metadata": {
    "cell_id": "41fb740be2fd4233b319adc09a7741c0",
    "tags": [],
    "deepnote_cell_type": "markdown",
    "deepnote_cell_height": 130.78125
   }
  },
  {
   "cell_type": "code",
   "metadata": {
    "cell_id": "4f3d327557bc47118d263d3426afed8f",
    "tags": [],
    "deepnote_to_be_reexecuted": false,
    "source_hash": "cf0242fb",
    "execution_start": 1656290576791,
    "execution_millis": 2472,
    "deepnote_cell_type": "code",
    "deepnote_cell_height": 153
   },
   "source": "#Import libraries\nimport pandas as pd\nimport numpy as np\nimport matplotlib.pyplot as plt\nimport seaborn as sns",
   "execution_count": null,
   "outputs": []
  },
  {
   "cell_type": "code",
   "metadata": {
    "cell_id": "2f175c98baf3494bafcf1e1e1ec8c10c",
    "tags": [],
    "deepnote_to_be_reexecuted": false,
    "source_hash": "23508d1b",
    "execution_start": 1656290579267,
    "execution_millis": 3091,
    "deepnote_cell_type": "code",
    "deepnote_cell_height": 1278.1875,
    "deepnote_output_heights": [
     21.1875,
     456,
     462
    ]
   },
   "source": "df=pd.read_csv(\"age_gender.csv\")\ndf1= pd.DataFrame(df)\n\nplt.figure(figsize=(10,7))\nax=df1.gender.value_counts().plot.bar(title='Gender' )\nax.set_xticklabels(['Female', 'Male'])\nplt.figure(figsize=(10,7))\nlabels =['White','Black','Indian','Asian','Hispanic']\nax=df1.ethnicity.value_counts().plot.bar()\nax.set_xticklabels(labels)\nax.set_title('Ethinicity')",
   "execution_count": null,
   "outputs": [
    {
     "output_type": "execute_result",
     "execution_count": 3,
     "data": {
      "text/plain": "Text(0.5, 1.0, 'Ethinicity')"
     },
     "metadata": {}
    },
    {
     "data": {
      "text/plain": "<Figure size 720x504 with 1 Axes>",
      "image/png": "[encoded data removed]"
     },
     "metadata": {
      "needs_background": "light",
      "image/png": {
       "width": 610,
       "height": 454
      }
     },
     "output_type": "display_data"
    },
    {
     "data": {
      "text/plain": "<Figure size 720x504 with 1 Axes>",
      "image/png": "[encoded data removed]"
     },
     "metadata": {
      "needs_background": "light",
      "image/png": {
       "width": 610,
       "height": 460
      }
     },
     "output_type": "display_data"
    }
   ]
  },
  {
   "cell_type": "code",
   "metadata": {
    "cell_id": "7946a6ddf52345d48aa5dcf569d12f47",
    "tags": [],
    "deepnote_to_be_reexecuted": false,
    "source_hash": "f304b119",
    "execution_start": 1656290581870,
    "execution_millis": 498,
    "deepnote_cell_type": "code",
    "deepnote_cell_height": 708,
    "deepnote_output_heights": [
     611
    ]
   },
   "source": "df1['pixels'][0].split()",
   "execution_count": null,
   "outputs": [
    {
     "output_type": "execute_result",
     "execution_count": 4,
     "data": {
      "text/plain": "['129',\n '128',\n '128',\n '126',\n '127',\n '130',\n '133',\n '135',\n '139',\n '142',\n '145',\n '149',\n '147',\n '145',\n '146',\n '147',\n '148',\n '149',\n '149',\n '150',\n '153',\n '153',\n '153',\n '152',\n '153',\n '153',\n '153',\n '153',\n '153',\n '151',\n '149',\n '147',\n '146',\n '146',\n '144',\n '143',\n '140',\n '134',\n '129',\n '129',\n '126',\n '122',\n '121',\n '119',\n '118',\n '118',\n '99',\n '53',\n '130',\n '129',\n '128',\n '126',\n '127',\n '130',\n '135',\n '141',\n '143',\n '143',\n '144',\n '145',\n '143',\n '142',\n '144',\n '145',\n '146',\n '149',\n '149',\n '148',\n '151',\n '151',\n '151',\n '151',\n '152',\n '153',\n '153',\n '153',\n '153',\n '149',\n '148',\n '147',\n '146',\n '146',\n '142',\n '141',\n '138',\n '133',\n '130',\n '130',\n '128',\n '123',\n '124',\n '122',\n '120',\n '117',\n '98',\n '52',\n '131',\n '129',\n '130',\n '129',\n '129',\n '134',\n '138',\n '144',\n '145',\n '143',\n '143',\n '139',\n '140',\n '138',\n '139',\n '140',\n '142',\n '145',\n '147',\n '149',\n '151',\n '149',\n '149',\n '149',\n '151',\n '152',\n '151',\n '150',\n '150',\n '148',\n '147',\n '145',\n '144',\n '142',\n '140',\n '137',\n '136',\n '135',\n '134',\n '131',\n '128',\n '126',\n '126',\n '123',\n '122',\n '114',\n '97',\n '50',\n '135',\n '134',\n '133',\n '132',\n '131',\n '136',\n '142',\n '145',\n '147',\n '144',\n '141',\n '143',\n '138',\n '131',\n '133',\n '134',\n '137',\n '139',\n '143',\n '147',\n '148',\n '149',\n '149',\n '149',\n '151',\n '151',\n '149',\n '147',\n '147',\n '146',\n '141',\n '139',\n '135',\n '137',\n '137',\n '137',\n '137',\n '138',\n '137',\n '134',\n '132',\n '129',\n '130',\n '124',\n '124',\n '115',\n '95',\n '52',\n '138',\n '139',\n '139',\n '135',\n '134',\n '138',\n '140',\n '140',\n '140',\n '140',\n '140',\n '140',\n '139',\n '134',\n '131',\n '127',\n '131',\n '131',\n '133',\n '138',\n '143',\n '148',\n '149',\n '149',\n '150',\n '151',\n '148',\n '144',\n '141',\n '138',\n '139',\n '133',\n '133',\n '137',\n '139',\n '139',\n '141',\n '140',\n '140',\n '136',\n '132',\n '131',\n '132',\n '125',\n '125',\n '115',\n '91',\n '50',\n '141',\n '145',\n '144',\n '138',\n '135',\n '139',\n '139',\n '133',\n '127',\n '123',\n '124',\n '122',\n '125',\n '126',\n '129',\n '127',\n '129',\n '126',\n '126',\n '129',\n '137',\n '145',\n '149',\n '147',\n '149',\n '149',\n '147',\n '141',\n '135',\n '133',\n '134',\n '132',\n '132',\n '133',\n '134',\n '134',\n '137',\n '139',\n '141',\n '137',\n '135',\n '134',\n '133',\n '127',\n '125',\n '113',\n '82',\n '47',\n '147',\n '147',\n '145',\n '141',\n '138',\n '136',\n '132',\n '124',\n '117',\n '117',\n '116',\n '114',\n '107',\n '104',\n '108',\n '112',\n '115',\n '117',\n '120',\n '126',\n '133',\n '142',\n '146',\n '145',\n '147',\n '148',\n '147',\n '141',\n '135',\n '129',\n '122',\n '119',\n '115',\n '116',\n '120',\n '122',\n '124',\n '126',\n '138',\n '139',\n '138',\n '136',\n '135',\n '128',\n '124',\n '115',\n '72',\n '48',\n '148',\n '150',\n '149',\n '147',\n '141',\n '134',\n '125',\n '121',\n '122',\n '126',\n '122',\n '119',\n '114',\n '114',\n '117',\n '123',\n '124',\n '124',\n '127',\n '131',\n '135',\n '140',\n '143',\n '145',\n '147',\n '149',\n '149',\n '144',\n '139',\n '133',\n '129',\n '128',\n '115',\n '105',\n '110',\n '115',\n '121',\n '120',\n '130',\n '133',\n '138',\n '138',\n '138',\n '133',\n '124',\n '115',\n '58',\n '46',\n '148',\n '152',\n '152',\n '149',\n '143',\n '136',\n '124',\n '122',\n '128',\n '132',\n '132',\n '134',\n '135',\n '137',\n '136',\n '133',\n '134',\n '136',\n '135',\n '134',\n '139',\n '143',\n '144',\n '145',\n '149',\n '151',\n '150',\n '147',\n '141',\n '135',\n '136',\n '133',\n '129',\n '128',\n '130',\n '131',\n '129',\n '126',\n '120',\n '121',\n '132',\n '140',\n '142',\n '136',\n '129',\n '100',\n '63',\n '54',\n '148',\n '155',\n '153',\n '150',\n '146',\n '139',\n '135',\n '135',\n '139',\n '143',\n '146',\n '148',\n '145',\n '140',\n '137',\n '138',\n '134',\n '134',\n '139',\n '138',\n '143',\n '145',\n '147',\n '148',\n '153',\n '155',\n '151',\n '148',\n '143',\n '137',\n '137',\n '135',\n '141',\n '149',\n '146',\n '144',\n '140',\n '136',\n '132',\n '120',\n '129',\n '135',\n '139',\n '138',\n '134',\n '104',\n '125',\n '128',\n '150',\n '154',\n '154',\n '150',\n '145',\n '142',\n '142',\n '142',\n '144',\n '141',\n '143',\n '135',\n '129',\n '127',\n '126',\n '133',\n '134',\n '134',\n '137',\n '139',\n '142',\n '146',\n '149',\n '154',\n '156',\n '155',\n '152',\n '148',\n '140',\n '143',\n '134',\n '130',\n '137',\n '139',\n '138',\n '151',\n '144',\n '146',\n '144',\n '138',\n '136',\n '140',\n '142',\n '142',\n '133',\n '117',\n '155',\n '149',\n '151',\n '154',\n '154',\n '149',\n '144',\n '144',\n '141',\n '141',\n '138',\n '130',\n '117',\n '97',\n '81',\n '78',\n '86',\n '102',\n '118',\n '131',\n '134',\n '135',\n '143',\n '149',\n '152',\n '154',\n '155',\n '155',\n '150',\n '145',\n '138',\n '136',\n '127',\n '122',\n '97',\n '84',\n '101',\n '117',\n '134',\n '149',\n '146',\n '144',\n '143',\n '143',\n '145',\n '143',\n '130',\n '141',\n '135',\n '90',\n '151',\n '154',\n '153',\n '150',\n '147',\n '146',\n '142',\n '141',\n '129',\n '113',\n '86',\n '60',\n '58',\n '49',\n '33',\n '48',\n '83',\n '109',\n '130',\n '133',\n '145',\n '151',\n '154',\n '155',\n '157',\n '155',\n '150',\n '143',\n '132',\n '124',\n '70',\n '39',\n '39',\n '83',\n '71',\n '70',\n '109',\n '125',\n '142',\n '147',\n '142',\n '145',\n '146',\n '143',\n '130',\n '120',\n '69',\n '63',\n '151',\n '153',\n '155',\n '153',\n '151',\n '150',\n '142',\n '131',\n '109',\n '86',\n '53',\n '102',\n '80',\n '75',\n '26',\n '107',\n '51',\n '93',\n '124',\n '136',\n '146',\n '153',\n '155',\n '155',\n '156',\n '158',\n '151',\n '143',\n '137',\n '82',\n '25',\n '76',\n '58',\n '83',\n '151',\n '80',\n '73',\n '113',\n '134',\n '149',\n '148',\n '150',\n '147',\n '142',\n '122',\n '104',\n '67',\n '82',\n '151',\n '153',\n '156',\n '157',\n '155',\n '152',\n '145',\n '136',\n '124',\n '113',\n '123',\n '134',\n '78',\n '28',\n '23',\n '43',\n '69',\n '117',\n '128',\n '148',\n '147',\n '153',\n '159',\n '159',\n '159',\n '159',\n '153',\n '148',\n '146',\n '60',\n '22',\n '26',\n '41',\n '88',\n '159',\n '123',\n '103',\n '105',\n '128',\n '150',\n '148',\n '150',\n '153',\n '143',\n '127',\n '109',\n '69',\n '92',\n '150',\n '154',\n '156',\n '159',\n '159',\n '161',\n '163',\n '162',\n '161',\n '157',\n '139',\n '135',\n '113',\n '51',\n '35',\n '56',\n '90',\n '141',\n '152',\n '153',\n '154',\n '162',\n '170',\n '172',\n '170',\n '168',\n '161',\n '155',\n '163',\n '120',\n '70',\n '30',\n '45',\n '111',\n '143',\n '129',\n '132',\n '135',\n '144',\n '150',\n '156',\n '154',\n '156',\n '147',\n '120',\n '101',\n '94',\n '86',\n '146',\n '153',\n '156',\n '159',\n '163',\n '169',\n '171',\n '172',\n '171',\n '168',\n '165',\n '157',\n '152',\n '136',\n '127',\n '133',\n '149',\n '145',\n '156',\n '162',\n '168',\n '173',\n '177',\n '176',\n '175',\n '172',\n '168',\n '164',\n '161',\n '153',\n '144',\n '141',\n '131',\n '138',\n '143',\n '150',\n '157',\n '152',\n '153',\n '155',\n '156',\n '154',\n '150',\n '147',\n '116',\n '115',\n '95',\n '52',\n '143',\n '151',\n '156',\n '160',\n '165',\n '166',\n '169',\n '172',\n '171',\n '168',\n '162',\n '157',\n '152',\n '144',\n '136',\n '137',\n '143',\n '154',\n '166',\n '171',\n '176',\n '178',\n '178',\n '175',\n '173',\n '172',\n '170',\n '170',\n '166',\n '162',\n '155',\n '141',\n '136',\n '142',\n '156',\n '162',\n '159',\n '159',\n '157',\n '156',\n '157',\n '154',\n '151',\n '140',\n '119',\n '121',\n '55',\n '31',\n '141',\n '148',\n '153',\n '157',\n '161',\n '163',\n '166',\n '169',\n '169',\n '167',\n '162',\n '157',\n '153',\n '149',\n '147',\n '151',\n '158',\n '166',\n '172',\n '175',\n '178',\n '176',\n '174',\n '173',\n '172',\n '170',\n '169',\n '170',\n '173',\n '170',\n '166',\n '154',\n '146',\n '149',\n '154',\n '160',\n '163',\n '162',\n '160',\n '157',\n '153',\n '150',\n '151',\n '134',\n '138',\n '85',\n '35',\n '33',\n '138',\n '146',\n '150',\n '155',\n '159',\n '161',\n '164',\n '167',\n '169',\n '169',\n '167',\n '163',\n '159',\n '156',\n '157',\n '161',\n '168',\n '172',\n '173',\n '176',\n '178',\n '176',\n '170',\n '171',\n '169',\n '168',\n '167',\n '168',\n '169',\n '170',\n '170',\n '165',\n '160',\n '156',\n '156',\n '160',\n '163',\n '164',\n '160',\n '156',\n '152',\n '146',\n '145',\n '132',\n '113',\n '35',\n '32',\n '33',\n '136',\n '144',\n '149',\n '153',\n '158',\n '160',\n '163',\n '165',\n '168',\n '168',\n '170',\n '167',\n '164',\n '165',\n '166',\n '169',\n '172',\n '169',\n '168',\n '169',\n '171',\n '170',\n '167',\n '169',\n '168',\n '166',\n '162',\n '162',\n '164',\n '166',\n '169',\n '172',\n '169',\n '165',\n '165',\n '166',\n '167',\n '165',\n '160',\n '156',\n ...]"
     },
     "metadata": {}
    }
   ]
  },
  {
   "cell_type": "code",
   "metadata": {
    "cell_id": "d3cb27120bc145b1beb31155e1c33ead",
    "tags": [],
    "deepnote_to_be_reexecuted": false,
    "source_hash": "dbf1d989",
    "execution_start": 1656290581919,
    "execution_millis": 7439,
    "deepnote_table_state": {
     "pageSize": 10,
     "pageIndex": 0,
     "filters": [],
     "sortBy": []
    },
    "deepnote_table_loading": false,
    "deepnote_cell_type": "code",
    "deepnote_cell_height": 447.65625
   },
   "source": "## Converting pixels into numpy array\ndf1['pixels'] = df1['pixels'].apply(lambda x:  np.reshape(np.array(x.split(), dtype=\"float32\"), (48,48)))\ndf1.head()",
   "execution_count": null,
   "outputs": [
    {
     "output_type": "execute_result",
     "execution_count": 5,
     "data": {
      "application/vnd.deepnote.dataframe.v3+json": {
       "column_count": 5,
       "row_count": 5,
       "columns": [
        {
         "name": "age",
         "dtype": "int64",
         "stats": {
          "unique_count": 1,
          "nan_count": 0,
          "min": "1",
          "max": "1",
          "histogram": [
           {
            "bin_start": 0.5,
            "bin_end": 0.6,
            "count": 0
           },
           {
            "bin_start": 0.6,
            "bin_end": 0.7,
            "count": 0
           },
           {
            "bin_start": 0.7,
            "bin_end": 0.8,
            "count": 0
           },
           {
            "bin_start": 0.8,
            "bin_end": 0.9,
            "count": 0
           },
           {
            "bin_start": 0.9,
            "bin_end": 1,
            "count": 0
           },
           {
            "bin_start": 1,
            "bin_end": 1.1,
            "count": 5
           },
           {
            "bin_start": 1.1,
            "bin_end": 1.2000000000000002,
            "count": 0
           },
           {
            "bin_start": 1.2000000000000002,
            "bin_end": 1.3,
            "count": 0
           },
           {
            "bin_start": 1.3,
            "bin_end": 1.4,
            "count": 0
           },
           {
            "bin_start": 1.4,
            "bin_end": 1.5,
            "count": 0
           }
          ]
         }
        },
        {
         "name": "ethnicity",
         "dtype": "int64",
         "stats": {
          "unique_count": 1,
          "nan_count": 0,
          "min": "2",
          "max": "2",
          "histogram": [
           {
            "bin_start": 1.5,
            "bin_end": 1.6,
            "count": 0
           },
           {
            "bin_start": 1.6,
            "bin_end": 1.7,
            "count": 0
           },
           {
            "bin_start": 1.7,
            "bin_end": 1.8,
            "count": 0
           },
           {
            "bin_start": 1.8,
            "bin_end": 1.9,
            "count": 0
           },
           {
            "bin_start": 1.9,
            "bin_end": 2,
            "count": 0
           },
           {
            "bin_start": 2,
            "bin_end": 2.1,
            "count": 5
           },
           {
            "bin_start": 2.1,
            "bin_end": 2.2,
            "count": 0
           },
           {
            "bin_start": 2.2,
            "bin_end": 2.3,
            "count": 0
           },
           {
            "bin_start": 2.3,
            "bin_end": 2.4,
            "count": 0
           },
           {
            "bin_start": 2.4,
            "bin_end": 2.5,
            "count": 0
           }
          ]
         }
        },
        {
         "name": "gender",
         "dtype": "int64",
         "stats": {
          "unique_count": 1,
          "nan_count": 0,
          "min": "0",
          "max": "0",
          "histogram": [
           {
            "bin_start": -0.5,
            "bin_end": -0.4,
            "count": 0
           },
           {
            "bin_start": -0.4,
            "bin_end": -0.3,
            "count": 0
           },
           {
            "bin_start": -0.3,
            "bin_end": -0.19999999999999996,
            "count": 0
           },
           {
            "bin_start": -0.19999999999999996,
            "bin_end": -0.09999999999999998,
            "count": 0
           },
           {
            "bin_start": -0.09999999999999998,
            "bin_end": 0,
            "count": 0
           },
           {
            "bin_start": 0,
            "bin_end": 0.10000000000000009,
            "count": 5
           },
           {
            "bin_start": 0.10000000000000009,
            "bin_end": 0.20000000000000007,
            "count": 0
           },
           {
            "bin_start": 0.20000000000000007,
            "bin_end": 0.30000000000000004,
            "count": 0
           },
           {
            "bin_start": 0.30000000000000004,
            "bin_end": 0.4,
            "count": 0
           },
           {
            "bin_start": 0.4,
            "bin_end": 0.5,
            "count": 0
           }
          ]
         }
        },
        {
         "name": "img_name",
         "dtype": "object",
         "stats": {
          "unique_count": 5,
          "nan_count": 0,
          "categories": [
           {
            "name": "20161219203650636.jpg.chip.jpg",
            "count": 1
           },
           {
            "name": "20161219222752047.jpg.chip.jpg",
            "count": 1
           },
           {
            "name": "3 others",
            "count": 3
           }
          ]
         }
        },
        {
         "name": "pixels",
         "dtype": "object",
         "stats": {
          "unique_count": 5,
          "nan_count": 0,
          "categories": [
           {
            "name": "[[129. 128. 128. ... 118.  99.  53.]\n [130. 129. 128. ... 117.  98.  52.]\n [131. 129. 130. ... 114.  97.  50.]\n ...\n [121. 138. 147. ... 151. 150. 148.]\n [117. 137. 146. ... 149. 148. 148.]\n [115. 135. 142. ... 146. 146. 146.]]",
            "count": 1
           },
           {
            "name": "[[164.  74. 111. ... 111. 111. 104.]\n [179.  70. 128. ... 112. 113. 108.]\n [176.  71. 146. ... 112. 112. 109.]\n ...\n [192. 196. 235. ... 111. 124. 112.]\n [230. 226. 233. ... 198. 197. 180.]\n [238. 239. 233. ... 182. 170. 148.]]",
            "count": 1
           },
           {
            "name": "3 others",
            "count": 3
           }
          ]
         }
        },
        {
         "name": "_deepnote_index_column",
         "dtype": "int64"
        }
       ],
       "rows": [
        {
         "age": 1,
         "ethnicity": 2,
         "gender": 0,
         "img_name": "20161219203650636.jpg.chip.jpg",
         "pixels": "[[129. 128. 128. ... 118.  99.  53.]\n [130. 129. 128. ... 117.  98.  52.]\n [131. 129. 130. ... 114.  97.  50.]\n ...\n [121. 138. 147. ... 151. 150. 148.]\n [117. 137. 146. ... 149. 148. 148.]\n [115. 135. 142. ... 146. 146. 146.]]",
         "_deepnote_index_column": 0
        },
        {
         "age": 1,
         "ethnicity": 2,
         "gender": 0,
         "img_name": "20161219222752047.jpg.chip.jpg",
         "pixels": "[[164.  74. 111. ... 111. 111. 104.]\n [179.  70. 128. ... 112. 113. 108.]\n [176.  71. 146. ... 112. 112. 109.]\n ...\n [192. 196. 235. ... 111. 124. 112.]\n [230. 226. 233. ... 198. 197. 180.]\n [238. 239. 233. ... 182. 170. 148.]]",
         "_deepnote_index_column": 1
        },
        {
         "age": 1,
         "ethnicity": 2,
         "gender": 0,
         "img_name": "20161219222832191.jpg.chip.jpg",
         "pixels": "[[ 67.  70.  71. ... 197. 194. 192.]\n [ 65.  66.  69. ... 197. 194. 192.]\n [ 61.  63.  69. ... 197. 194. 190.]\n ...\n [159. 157. 159. ... 114. 105. 105.]\n [102. 114. 110. ... 114. 110. 107.]\n [ 98.  97.  95. ... 112. 111. 108.]]",
         "_deepnote_index_column": 2
        },
        {
         "age": 1,
         "ethnicity": 2,
         "gender": 0,
         "img_name": "20161220144911423.jpg.chip.jpg",
         "pixels": "[[193. 197. 198. ... 234. 243. 250.]\n [193. 197. 198. ... 234. 243. 250.]\n [196. 197. 198. ... 234. 243. 250.]\n ...\n [192. 185. 184. ... 253. 253. 253.]\n [190. 186. 181. ... 250. 252. 252.]\n [192. 187. 182. ... 235. 239. 246.]]",
         "_deepnote_index_column": 3
        },
        {
         "age": 1,
         "ethnicity": 2,
         "gender": 0,
         "img_name": "20161220144914327.jpg.chip.jpg",
         "pixels": "[[202. 205. 209. ... 154. 214. 227.]\n [203. 207. 209. ... 122. 195. 222.]\n [205. 206. 207. ... 104. 172. 213.]\n ...\n [196. 202. 208. ... 156. 166. 178.]\n [195. 200. 204. ... 156. 160. 171.]\n [191. 199. 202. ... 167. 163. 161.]]",
         "_deepnote_index_column": 4
        }
       ]
      },
      "text/plain": "   age  ethnicity  gender                        img_name  \\\n0    1          2       0  20161219203650636.jpg.chip.jpg   \n1    1          2       0  20161219222752047.jpg.chip.jpg   \n2    1          2       0  20161219222832191.jpg.chip.jpg   \n3    1          2       0  20161220144911423.jpg.chip.jpg   \n4    1          2       0  20161220144914327.jpg.chip.jpg   \n\n                                              pixels  \n0  [[129.0, 128.0, 128.0, 126.0, 127.0, 130.0, 13...  \n1  [[164.0, 74.0, 111.0, 168.0, 169.0, 171.0, 175...  \n2  [[67.0, 70.0, 71.0, 70.0, 69.0, 67.0, 70.0, 79...  \n3  [[193.0, 197.0, 198.0, 200.0, 199.0, 200.0, 20...  \n4  [[202.0, 205.0, 209.0, 210.0, 209.0, 209.0, 21...  ",
      "text/html": "<div>\n<style scoped>\n    .dataframe tbody tr th:only-of-type {\n        vertical-align: middle;\n    }\n\n    .dataframe tbody tr th {\n        vertical-align: top;\n    }\n\n    .dataframe thead th {\n        text-align: right;\n    }\n</style>\n<table border=\"1\" class=\"dataframe\">\n  <thead>\n    <tr style=\"text-align: right;\">\n      <th></th>\n      <th>age</th>\n      <th>ethnicity</th>\n      <th>gender</th>\n      <th>img_name</th>\n      <th>pixels</th>\n    </tr>\n  </thead>\n  <tbody>\n    <tr>\n      <th>0</th>\n      <td>1</td>\n      <td>2</td>\n      <td>0</td>\n      <td>20161219203650636.jpg.chip.jpg</td>\n      <td>[[129.0, 128.0, 128.0, 126.0, 127.0, 130.0, 13...</td>\n    </tr>\n    <tr>\n      <th>1</th>\n      <td>1</td>\n      <td>2</td>\n      <td>0</td>\n      <td>20161219222752047.jpg.chip.jpg</td>\n      <td>[[164.0, 74.0, 111.0, 168.0, 169.0, 171.0, 175...</td>\n    </tr>\n    <tr>\n      <th>2</th>\n      <td>1</td>\n      <td>2</td>\n      <td>0</td>\n      <td>20161219222832191.jpg.chip.jpg</td>\n      <td>[[67.0, 70.0, 71.0, 70.0, 69.0, 67.0, 70.0, 79...</td>\n    </tr>\n    <tr>\n      <th>3</th>\n      <td>1</td>\n      <td>2</td>\n      <td>0</td>\n      <td>20161220144911423.jpg.chip.jpg</td>\n      <td>[[193.0, 197.0, 198.0, 200.0, 199.0, 200.0, 20...</td>\n    </tr>\n    <tr>\n      <th>4</th>\n      <td>1</td>\n      <td>2</td>\n      <td>0</td>\n      <td>20161220144914327.jpg.chip.jpg</td>\n      <td>[[202.0, 205.0, 209.0, 210.0, 209.0, 209.0, 21...</td>\n    </tr>\n  </tbody>\n</table>\n</div>"
     },
     "metadata": {}
    }
   ]
  },
  {
   "cell_type": "code",
   "metadata": {
    "cell_id": "2fbf60c520f347129728bc2296e82116",
    "tags": [],
    "deepnote_to_be_reexecuted": false,
    "source_hash": "7dfdcfde",
    "execution_start": 1656290589403,
    "execution_millis": 4,
    "deepnote_cell_type": "code",
    "deepnote_cell_height": 147.859375
   },
   "source": "# ! Reference: #lambda arguments : expression  \nx = lambda a : a + 10\nprint(x(5))",
   "execution_count": null,
   "outputs": [
    {
     "name": "stdout",
     "text": "15\n",
     "output_type": "stream"
    }
   ]
  },
  {
   "cell_type": "code",
   "metadata": {
    "cell_id": "c7c3c30ad5a04be78bdefa9d54260239",
    "tags": [],
    "deepnote_to_be_reexecuted": false,
    "source_hash": "393b2bbe",
    "execution_start": 1656290589404,
    "execution_millis": 1,
    "deepnote_cell_type": "code",
    "deepnote_cell_height": 405
   },
   "source": "# Function for plotting the image\ndef plot_data(rows, cols, lower_value, upper_value):\n\n    # Creating a figure of subplots like a table \n    fig = plt.figure(figsize=(cols*3,rows*4))\n    \n    for i in range(1, cols*rows + 1):\n        # Selecting a random row \n        k = np.random.randint(lower_value,upper_value)\n        fig.add_subplot(rows, cols, i)  # adding sub plot in the current cell i\n        gender = ['Female' if df.gender[k] == 1 else 'Male']\n        ethnicity = labels[df.ethnicity[k]]\n        age = df.age[k]\n        im = df.pixels[k]\n        plt.imshow(im,cmap='plasma')\n        plt.axis('off')\n        plt.title(f'Gender:{gender}\\tAge:{age}\\tEthnicity:{ethnicity}')\n        plt.tight_layout()\n        plt.show()",
   "execution_count": null,
   "outputs": []
  },
  {
   "cell_type": "code",
   "metadata": {
    "cell_id": "048f068672c442b7995772c31783a0ae",
    "tags": [],
    "deepnote_to_be_reexecuted": false,
    "source_hash": "7ce209d7",
    "execution_start": 1656290589405,
    "execution_millis": 1399,
    "deepnote_cell_type": "code",
    "deepnote_cell_height": 2004.125,
    "deepnote_output_heights": [
     null,
     232,
     282,
     282,
     282,
     282,
     282
    ]
   },
   "source": "plot_data(rows=3,cols=2,lower_value=0,upper_value=len(df))",
   "execution_count": null,
   "outputs": [
    {
     "name": "stderr",
     "text": "<ipython-input-7-372ddb381db8>:18: UserWarning: Glyph 9 (\t) missing from current font.\n  plt.tight_layout()\n/shared-libs/python3.9/py-core/lib/python3.9/site-packages/IPython/core/pylabtools.py:151: UserWarning: Glyph 9 (\t) missing from current font.\n  fig.canvas.print_figure(bytes_io, **kw)\n",
     "output_type": "stream"
    },
    {
     "data": {
      "text/plain": "<Figure size 432x864 with 1 Axes>",
      "image/png": "[encoded data removed]"
     },
     "metadata": {
      "needs_background": "light",
      "image/png": {
       "width": 254,
       "height": 230
      }
     },
     "output_type": "display_data"
    },
    {
     "data": {
      "text/plain": "<Figure size 432x288 with 1 Axes>",
      "image/png": "[encoded data removed]"
     },
     "metadata": {
      "needs_background": "light",
      "image/png": {
       "width": 271,
       "height": 280
      }
     },
     "output_type": "display_data"
    },
    {
     "data": {
      "text/plain": "<Figure size 432x288 with 1 Axes>",
      "image/png": "[encoded data removed]"
     },
     "metadata": {
      "needs_background": "light",
      "image/png": {
       "width": 269,
       "height": 280
      }
     },
     "output_type": "display_data"
    },
    {
     "data": {
      "text/plain": "<Figure size 432x288 with 1 Axes>",
      "image/png": "[encoded data removed]"
     },
     "metadata": {
      "needs_background": "light",
      "image/png": {
       "width": 264,
       "height": 280
      }
     },
     "output_type": "display_data"
    },
    {
     "data": {
      "text/plain": "<Figure size 432x288 with 1 Axes>",
      "image/png": "[encoded data removed]"
     },
     "metadata": {
      "needs_background": "light",
      "image/png": {
       "width": 269,
       "height": 280
      }
     },
     "output_type": "display_data"
    },
    {
     "data": {
      "text/plain": "<Figure size 432x288 with 1 Axes>",
      "image/png": "[encoded data removed]"
     },
     "metadata": {
      "needs_background": "light",
      "image/png": {
       "width": 271,
       "height": 280
      }
     },
     "output_type": "display_data"
    }
   ]
  },
  {
   "cell_type": "code",
   "metadata": {
    "cell_id": "3842a1b9f70f4cf59c5eac1c590e1380",
    "tags": [],
    "deepnote_to_be_reexecuted": false,
    "source_hash": "c98cd962",
    "execution_start": 1656290590211,
    "execution_millis": 7576,
    "deepnote_cell_type": "code",
    "deepnote_cell_height": 405
   },
   "source": "# Importing Libraries\nimport keras\nimport tensorflow as tf\nfrom keras.layers import Input\nimport json\nimport sys\nimport tensorflow as tf\nfrom keras.layers import Input\nimport numpy as np\nimport argparse\nfrom keras_applications.resnext import ResNeXt50\nfrom keras.utils.data_utils import get_file\nimport face_recognition\nimport pandas as pd\nimport matplotlib.pyplot as plt\nimport seaborn as sns\nimport cv2\nfrom PIL import Image\n",
   "execution_count": null,
   "outputs": []
  },
  {
   "cell_type": "code",
   "metadata": {
    "cell_id": "dbdfa93d970b418d864c4078402da375",
    "tags": [],
    "deepnote_to_be_reexecuted": false,
    "source_hash": "c3b9d5df",
    "execution_start": 1656290597790,
    "execution_millis": 9894,
    "owner_user_id": "561b0524-2458-4da5-a287-4585e2804b68",
    "deepnote_cell_type": "code",
    "deepnote_cell_height": 590.046875,
    "deepnote_output_heights": [
     null,
     21.1875,
     233
    ]
   },
   "source": "df=pd.read_csv(\"age_gender.csv\")\ndf.head()\ndf1= pd.DataFrame(df)\ndf1['pixels'] = df1.pixels.apply(lambda x: np.reshape(np.array(x.split(' '),dtype='float32'),(48,48)))\ndf1['pixels']= df1['pixels']/255\nprint(df1.shape)\nim = df1['pixels'][45]\nim\nplt.imshow(im, cmap='plasma')\nplt.axis('off')",
   "execution_count": null,
   "outputs": [
    {
     "name": "stdout",
     "text": "(23705, 5)\n",
     "output_type": "stream"
    },
    {
     "output_type": "execute_result",
     "execution_count": 10,
     "data": {
      "text/plain": "(-0.5, 47.5, 47.5, -0.5)"
     },
     "metadata": {}
    },
    {
     "data": {
      "text/plain": "<Figure size 432x288 with 1 Axes>",
      "image/png": "[encoded data removed]"
     },
     "metadata": {
      "needs_background": "light",
      "image/png": {
       "width": 231,
       "height": 231
      }
     },
     "output_type": "display_data"
    }
   ]
  },
  {
   "cell_type": "code",
   "metadata": {
    "cell_id": "07609521fefc432d9a8f791dffc1ead8",
    "tags": [],
    "deepnote_to_be_reexecuted": false,
    "source_hash": "7cea94",
    "execution_start": 1656290607056,
    "execution_millis": 50,
    "deepnote_cell_type": "code",
    "deepnote_cell_height": 99
   },
   "source": "# image indexes to choose for reference\n# df1.shape",
   "execution_count": null,
   "outputs": []
  },
  {
   "cell_type": "code",
   "metadata": {
    "cell_id": "923ef91758e8487396f6eb2adff37eeb",
    "tags": [],
    "deepnote_to_be_reexecuted": false,
    "source_hash": "ee936b8",
    "execution_start": 1656290607109,
    "execution_millis": 590,
    "deepnote_cell_type": "code",
    "deepnote_cell_height": 380.046875,
    "deepnote_output_heights": [
     null,
     21.1875
    ]
   },
   "source": "X = np.zeros(shape=(23705,48,48))\n\n# Iterating through all the rows\nfor i in range(len(df1[\"pixels\"])):\n    X[i] = df1[\"pixels\"][i]\n\n# X = df1['pixels']\nprint(X.dtype)\n#Age\nag = df1['age']\nag=ag.astype(float)\nag= np.array(ag)\nag.shape",
   "execution_count": null,
   "outputs": [
    {
     "name": "stdout",
     "text": "float64\n",
     "output_type": "stream"
    },
    {
     "output_type": "execute_result",
     "execution_count": 12,
     "data": {
      "text/plain": "(23705,)"
     },
     "metadata": {}
    }
   ]
  },
  {
   "cell_type": "code",
   "metadata": {
    "cell_id": "ad2af5cf636c4410a376593dd51c94ec",
    "tags": [],
    "deepnote_to_be_reexecuted": false,
    "source_hash": "2dd10804",
    "execution_start": 1656290607534,
    "execution_millis": 167,
    "deepnote_cell_type": "code",
    "deepnote_cell_height": 154.1875,
    "deepnote_output_heights": [
     21.1875
    ]
   },
   "source": "g = df1['gender']\ng = np.array(g)\ng.shape",
   "execution_count": null,
   "outputs": [
    {
     "output_type": "execute_result",
     "execution_count": 13,
     "data": {
      "text/plain": "(23705,)"
     },
     "metadata": {}
    }
   ]
  },
  {
   "cell_type": "code",
   "metadata": {
    "cell_id": "1094d72a270c4e7ab73d11544f8a439d",
    "tags": [],
    "deepnote_to_be_reexecuted": false,
    "source_hash": "9e077b7b",
    "execution_start": 1656290607737,
    "execution_millis": 50,
    "owner_user_id": "b981016b-d67c-4cc6-9487-8e720771fa70",
    "deepnote_cell_type": "code",
    "deepnote_cell_height": 514.1875,
    "deepnote_output_heights": [
     21.1875
    ]
   },
   "source": "# creating a list of age and gender generated\nlabels_f =[]\n\n\ni=0\n\nwhile i <len(g):\n\n  label=[]\n\n  label.append([ag[i]])\n\n  label.append([g[i]])\n\n  labels_f.append(label)\n\n  i+=1\n\n# Both age and gender are combined and stored in labels_f, \n# we will further convert the list into array.\n\nlabels_f = np.array(labels_f)\nlabels_f.shape",
   "execution_count": null,
   "outputs": [
    {
     "output_type": "execute_result",
     "execution_count": 14,
     "data": {
      "text/plain": "(23705, 2, 1)"
     },
     "metadata": {}
    }
   ]
  },
  {
   "cell_type": "code",
   "metadata": {
    "cell_id": "f46ddc1805ad42e894398945c105eb9a",
    "tags": [],
    "deepnote_to_be_reexecuted": false,
    "source_hash": "710b226",
    "execution_start": 1656290607782,
    "execution_millis": 252,
    "deepnote_cell_type": "code",
    "deepnote_cell_height": 135
   },
   "source": "# Splitting the train and test data\nimport tensorflow as tf\n\nfrom sklearn.model_selection import train_test_split",
   "execution_count": null,
   "outputs": []
  },
  {
   "cell_type": "code",
   "metadata": {
    "cell_id": "966b269f2a444af49019598f57a8e1d5",
    "tags": [],
    "deepnote_to_be_reexecuted": false,
    "source_hash": "792a94e8",
    "execution_start": 1656290608040,
    "execution_millis": 126,
    "deepnote_cell_type": "code",
    "deepnote_cell_height": 315.453125
   },
   "source": "X_train, X_test, Y_train, Y_test= train_test_split(X,labels_f,test_size=0.25)\n\nprint(X_test.shape)\n\nprint(X_train.shape)\n\nprint(Y_test.shape)\n\nprint(Y_train.shape)",
   "execution_count": null,
   "outputs": [
    {
     "name": "stdout",
     "text": "(5927, 48, 48)\n(17778, 48, 48)\n(5927, 2, 1)\n(17778, 2, 1)\n",
     "output_type": "stream"
    }
   ]
  },
  {
   "cell_type": "code",
   "metadata": {
    "cell_id": "0547f8b5913b48a7b1ae3af31e5b0a69",
    "tags": [],
    "deepnote_to_be_reexecuted": false,
    "source_hash": "33225cdd",
    "execution_start": 1656290608168,
    "execution_millis": 2,
    "deepnote_cell_type": "code",
    "deepnote_cell_height": 99
   },
   "source": "Y_train_2= [Y_train[:,1],Y_train[:,0]]\nY_test_2= [Y_test[:,1],Y_test[:,0]]",
   "execution_count": null,
   "outputs": []
  },
  {
   "cell_type": "markdown",
   "source": "- The `Dropout layer` randomly sets input units to 0 with a frequency of rate at each step during training time, which helps prevent overfitting. Inputs not set to 0 are scaled up by 1/(1 - rate) such that the sum over all inputs is unchanged.\n\n-  The `Dropout layer` is a mask that nullifies the contribution of some neurons towards the next layer and leaves unmodified all others",
   "metadata": {
    "cell_id": "a657f40ed49848869efbe75a4b315838",
    "tags": [],
    "deepnote_cell_type": "markdown",
    "deepnote_cell_height": 161.96875
   }
  },
  {
   "cell_type": "markdown",
   "source": "- `Batch-Normalization (BN)` is an algorithmic method which makes the training of Deep Neural Networks (DNN) faster and more stable. It consists of normalizing activation vectors from hidden layers using the first and the second statistical moments (mean and variance) of the current batch.\n\n- Batch normalization is a layer that allows every layer of the network to do learning more independently. It is used to normalize the output of the previous layers. The activations scale the input layer in normalization",
   "metadata": {
    "cell_id": "9d34863f38d24724b50096f8a9c79859",
    "tags": [],
    "deepnote_cell_type": "markdown",
    "deepnote_cell_height": 206.765625
   }
  },
  {
   "cell_type": "markdown",
   "source": "- `Dense Layer` is simple layer of neurons in which each neuron receives input from all the neurons of previous layer\n",
   "metadata": {
    "cell_id": "eafafd2a9975436993d6fd4b4d4ff47c",
    "tags": [],
    "deepnote_cell_type": "markdown",
    "deepnote_cell_height": 91.78125
   }
  },
  {
   "cell_type": "code",
   "metadata": {
    "cell_id": "6fec0317b9454b008fcd10d2d96a916c",
    "tags": [],
    "deepnote_to_be_reexecuted": false,
    "source_hash": "486eb3d7",
    "execution_start": 1656290608172,
    "execution_millis": 528,
    "deepnote_cell_type": "code",
    "deepnote_cell_height": 297
   },
   "source": "from tensorflow.keras.layers import Dropout,Flatten,BatchNormalization\n\nfrom tensorflow.keras.layers import Dense, MaxPooling2D,Conv2D\n\nfrom tensorflow.keras.layers import Input,Activation,Add\n\nfrom tensorflow.keras.models import Model\n\nfrom tensorflow.keras.regularizers import l2\n\nfrom tensorflow.keras.optimizers import Adam\n\nimport tensorflow as tf",
   "execution_count": null,
   "outputs": []
  },
  {
   "cell_type": "code",
   "metadata": {
    "cell_id": "585481f121124a3d80082d4fc18782c1",
    "tags": [],
    "deepnote_to_be_reexecuted": false,
    "source_hash": "e85c8c6b",
    "execution_start": 1656290608709,
    "execution_millis": 3,
    "deepnote_cell_type": "code",
    "deepnote_cell_height": 1107
   },
   "source": "def Convolution(input_tensor,filters):\n    \n    x = Conv2D(filters=filters,kernel_size=(3, 3),padding = 'same',strides=(1, 1),\n    kernel_regularizer=l2(0.001))(input_tensor) #parameter\n\n\n    # Cov2D(some ) -> func\n    # func(input_tensor)\n    # Regularizer to apply a penalty on the layer's kernel\n\n    x = Dropout(0.1)(x)\n\n    x = Activation('relu')(x)\n\n    return x\n\ndef model(input_shape):\n\n  inputs = Input((input_shape))\n\n  conv_1= Convolution(inputs,32)\n\n  maxp_1 = MaxPooling2D(pool_size = ( 2, 2)) (conv_1) #combine significant patches\n\n  conv_2 = Convolution(maxp_1,64)\n\n  maxp_2 = MaxPooling2D(pool_size = (2, 2)) (conv_2) \n\n  conv_3 = Convolution(maxp_2,128)\n\n  maxp_3 = MaxPooling2D(pool_size = (2, 2)) (conv_3)\n\n  conv_4 = Convolution(maxp_3,256)\n\n  maxp_4 = MaxPooling2D(pool_size = (2, 2)) (conv_4)\n\n  flatten= Flatten() (maxp_4)\n\n  dense_1= Dense(64,activation='relu')(flatten)\n\n  dense_2= Dense(64,activation='relu')(flatten)\n\n  drop_1=Dropout(0.2)(dense_1)\n\n  drop_2=Dropout(0.2)(dense_2)\n\n  output_1= Dense(1,activation=\"sigmoid\",name='sex_out')(drop_1)\n\n  output_2= Dense(1,activation=\"relu\",name='age_out')(drop_2)\n\n  model = Model(inputs=[inputs], outputs=[output_1,output_2])\n\n  model.compile(loss=[\"binary_crossentropy\",\"mae\"], optimizer=\"Adam\",\n\n  metrics=[\"accuracy\"])\n\n  return model\n",
   "execution_count": null,
   "outputs": []
  },
  {
   "cell_type": "code",
   "metadata": {
    "cell_id": "fb3ad7cdd50c445e8718ef691184388b",
    "tags": [],
    "deepnote_to_be_reexecuted": false,
    "source_hash": "2e85cb68",
    "execution_start": 1656290608718,
    "execution_millis": 251,
    "deepnote_cell_type": "code",
    "deepnote_cell_height": 719
   },
   "source": "Model=model((48,48,1))\nModel.summary()",
   "execution_count": null,
   "outputs": [
    {
     "name": "stdout",
     "text": "Model: \"model\"\n__________________________________________________________________________________________________\n Layer (type)                   Output Shape         Param #     Connected to                     \n==================================================================================================\n input_1 (InputLayer)           [(None, 48, 48, 1)]  0           []                               \n                                                                                                  \n conv2d (Conv2D)                (None, 48, 48, 32)   320         ['input_1[0][0]']                \n                                                                                                  \n dropout (Dropout)              (None, 48, 48, 32)   0           ['conv2d[0][0]']                 \n                                                                                                  \n activation (Activation)        (None, 48, 48, 32)   0           ['dropout[0][0]']                \n                                                                                                  \n max_pooling2d (MaxPooling2D)   (None, 24, 24, 32)   0           ['activation[0][0]']             \n                                                                                                  \n conv2d_1 (Conv2D)              (None, 24, 24, 64)   18496       ['max_pooling2d[0][0]']          \n                                                                                                  \n dropout_1 (Dropout)            (None, 24, 24, 64)   0           ['conv2d_1[0][0]']               \n                                                                                                  \n activation_1 (Activation)      (None, 24, 24, 64)   0           ['dropout_1[0][0]']              \n                                                                                                  \n max_pooling2d_1 (MaxPooling2D)  (None, 12, 12, 64)  0           ['activation_1[0][0]']           \n                                                                                                  \n conv2d_2 (Conv2D)              (None, 12, 12, 128)  73856       ['max_pooling2d_1[0][0]']        \n                                                                                                  \n dropout_2 (Dropout)            (None, 12, 12, 128)  0           ['conv2d_2[0][0]']               \n                                                                                                  \n activation_2 (Activation)      (None, 12, 12, 128)  0           ['dropout_2[0][0]']              \n                                                                                                  \n max_pooling2d_2 (MaxPooling2D)  (None, 6, 6, 128)   0           ['activation_2[0][0]']           \n                                                                                                  \n conv2d_3 (Conv2D)              (None, 6, 6, 256)    295168      ['max_pooling2d_2[0][0]']        \n                                                                                                  \n dropout_3 (Dropout)            (None, 6, 6, 256)    0           ['conv2d_3[0][0]']               \n                                                                                                  \n activation_3 (Activation)      (None, 6, 6, 256)    0           ['dropout_3[0][0]']              \n                                                                                                  \n max_pooling2d_3 (MaxPooling2D)  (None, 3, 3, 256)   0           ['activation_3[0][0]']           \n                                                                                                  \n flatten (Flatten)              (None, 2304)         0           ['max_pooling2d_3[0][0]']        \n                                                                                                  \n dense (Dense)                  (None, 64)           147520      ['flatten[0][0]']                \n                                                                                                  \n dense_1 (Dense)                (None, 64)           147520      ['flatten[0][0]']                \n                                                                                                  \n dropout_4 (Dropout)            (None, 64)           0           ['dense[0][0]']                  \n                                                                                                  \n dropout_5 (Dropout)            (None, 64)           0           ['dense_1[0][0]']                \n                                                                                                  \n sex_out (Dense)                (None, 1)            65          ['dropout_4[0][0]']              \n                                                                                                  \n age_out (Dense)                (None, 1)            65          ['dropout_5[0][0]']              \n                                                                                                  \n==================================================================================================\nTotal params: 683,010\nTrainable params: 683,010\nNon-trainable params: 0\n__________________________________________________________________________________________________\n",
     "output_type": "stream"
    }
   ]
  },
  {
   "cell_type": "code",
   "metadata": {
    "cell_id": "76af3db37ad54541a42b257403a9fe3c",
    "tags": [],
    "deepnote_to_be_reexecuted": false,
    "source_hash": "1424740a",
    "execution_start": 1656290609008,
    "execution_millis": 86404003,
    "deepnote_cell_type": "code",
    "deepnote_cell_height": 171
   },
   "source": "# ! References Storing Function as a variable\n# def return_func():\n#     return sum\n\n# a = return_func()\n# a([2,2])",
   "execution_count": null,
   "outputs": []
  },
  {
   "cell_type": "markdown",
   "source": "The most commonly used filter size is 2×2 and it is slid over the input using a stride of 2. Based on the type of pooling operation you've selected, the pooling filter calculates an output on the receptive field (the part of the feature map under the filter). There are several approaches to pooling.",
   "metadata": {
    "cell_id": "7dacea8711334f0e9981177e9885fef1",
    "tags": [],
    "deepnote_cell_type": "markdown",
    "deepnote_cell_height": 119.578125
   }
  },
  {
   "cell_type": "code",
   "metadata": {
    "cell_id": "3ee5fe888dc54b84ba389f7e8206508b",
    "tags": [],
    "deepnote_to_be_reexecuted": false,
    "source_hash": "c2a22bbc",
    "execution_start": 1656290609009,
    "execution_millis": 1419336,
    "deepnote_cell_type": "code",
    "deepnote_cell_height": 529.953125
   },
   "source": "History=Model.fit(X_train,Y_train_2,batch_size=64,\n    validation_data=(X_test,Y_test_2),\n    epochs=10)",
   "execution_count": null,
   "outputs": [
    {
     "name": "stdout",
     "text": "Epoch 1/10\n278/278 [==============================] - 142s 507ms/step - loss: 16.8856 - sex_out_loss: 0.6958 - age_out_loss: 16.0218 - sex_out_accuracy: 0.5283 - age_out_accuracy: 0.0465 - val_loss: 15.2040 - val_sex_out_loss: 0.6926 - val_age_out_loss: 14.3521 - val_sex_out_accuracy: 0.5249 - val_age_out_accuracy: 0.0499\nEpoch 2/10\n278/278 [==============================] - 139s 499ms/step - loss: 13.7300 - sex_out_loss: 0.6884 - age_out_loss: 12.8576 - sex_out_accuracy: 0.5462 - age_out_accuracy: 0.0458 - val_loss: 13.0775 - val_sex_out_loss: 0.6688 - val_age_out_loss: 12.1974 - val_sex_out_accuracy: 0.6894 - val_age_out_accuracy: 0.0456\nEpoch 3/10\n278/278 [==============================] - 139s 499ms/step - loss: 11.8495 - sex_out_loss: 0.6341 - age_out_loss: 10.9866 - sex_out_accuracy: 0.6637 - age_out_accuracy: 0.0418 - val_loss: 13.4945 - val_sex_out_loss: 0.6036 - val_age_out_loss: 12.6487 - val_sex_out_accuracy: 0.7128 - val_age_out_accuracy: 0.0471\nEpoch 4/10\n278/278 [==============================] - 139s 499ms/step - loss: 11.0661 - sex_out_loss: 0.5978 - age_out_loss: 10.2149 - sex_out_accuracy: 0.6917 - age_out_accuracy: 0.0430 - val_loss: 12.5889 - val_sex_out_loss: 0.5670 - val_age_out_loss: 11.7572 - val_sex_out_accuracy: 0.7508 - val_age_out_accuracy: 0.0437\nEpoch 5/10\n278/278 [==============================] - 139s 499ms/step - loss: 10.7719 - sex_out_loss: 0.5626 - age_out_loss: 9.9331 - sex_out_accuracy: 0.7094 - age_out_accuracy: 0.0433 - val_loss: 14.2739 - val_sex_out_loss: 0.5260 - val_age_out_loss: 13.4609 - val_sex_out_accuracy: 0.7658 - val_age_out_accuracy: 0.0447\nEpoch 6/10\n278/278 [==============================] - 139s 499ms/step - loss: 10.4260 - sex_out_loss: 0.5213 - age_out_loss: 9.6059 - sex_out_accuracy: 0.7263 - age_out_accuracy: 0.0444 - val_loss: 10.6894 - val_sex_out_loss: 0.4806 - val_age_out_loss: 9.8990 - val_sex_out_accuracy: 0.7834 - val_age_out_accuracy: 0.0484\nEpoch 7/10\n278/278 [==============================] - 139s 499ms/step - loss: 9.8078 - sex_out_loss: 0.4926 - age_out_loss: 8.9952 - sex_out_accuracy: 0.7399 - age_out_accuracy: 0.0447 - val_loss: 10.7664 - val_sex_out_loss: 0.4656 - val_age_out_loss: 9.9691 - val_sex_out_accuracy: 0.7947 - val_age_out_accuracy: 0.0499\nEpoch 8/10\n278/278 [==============================] - 168s 606ms/step - loss: 9.5748 - sex_out_loss: 0.4719 - age_out_loss: 8.7598 - sex_out_accuracy: 0.7520 - age_out_accuracy: 0.0439 - val_loss: 11.1794 - val_sex_out_loss: 0.4290 - val_age_out_loss: 10.3970 - val_sex_out_accuracy: 0.8132 - val_age_out_accuracy: 0.0498\nEpoch 9/10\n278/278 [==============================] - 138s 497ms/step - loss: 9.2238 - sex_out_loss: 0.4517 - age_out_loss: 8.4085 - sex_out_accuracy: 0.7602 - age_out_accuracy: 0.0433 - val_loss: 11.3971 - val_sex_out_loss: 0.4055 - val_age_out_loss: 10.6162 - val_sex_out_accuracy: 0.8261 - val_age_out_accuracy: 0.0498\nEpoch 10/10\n278/278 [==============================] - 138s 497ms/step - loss: 9.1935 - sex_out_loss: 0.4422 - age_out_loss: 8.3657 - sex_out_accuracy: 0.7641 - age_out_accuracy: 0.0438 - val_loss: 9.3397 - val_sex_out_loss: 0.3858 - val_age_out_loss: 8.5578 - val_sex_out_accuracy: 0.8341 - val_age_out_accuracy: 0.0491\n",
     "output_type": "stream"
    }
   ]
  },
  {
   "cell_type": "code",
   "metadata": {
    "cell_id": "ff16fb18cfe345bd963406690b730387",
    "tags": [],
    "deepnote_to_be_reexecuted": false,
    "source_hash": "88cdb975",
    "execution_start": 1656292027839,
    "execution_millis": 7818,
    "deepnote_cell_type": "code",
    "deepnote_cell_height": 245.5,
    "deepnote_output_heights": [
     null,
     97.984375
    ]
   },
   "source": "Model.evaluate(X_test,Y_test_2)",
   "execution_count": null,
   "outputs": [
    {
     "name": "stdout",
     "text": "186/186 [==============================] - 8s 41ms/step - loss: 9.3397 - sex_out_loss: 0.3858 - age_out_loss: 8.5578 - sex_out_accuracy: 0.8341 - age_out_accuracy: 0.0491\n",
     "output_type": "stream"
    },
    {
     "output_type": "execute_result",
     "execution_count": 23,
     "data": {
      "text/plain": "[9.339710235595703,\n 0.3857804238796234,\n 8.557767868041992,\n 0.8341488242149353,\n 0.04909735172986984]"
     },
     "metadata": {}
    }
   ]
  },
  {
   "cell_type": "code",
   "metadata": {
    "cell_id": "11346c5dfd0b46558fe8266f64944eb4",
    "tags": [],
    "deepnote_to_be_reexecuted": false,
    "source_hash": "e343a35",
    "execution_start": 1656292035656,
    "execution_millis": 7852,
    "deepnote_cell_type": "code",
    "deepnote_cell_height": 297.234375,
    "deepnote_output_heights": [
     null,
     136.375
    ]
   },
   "source": "pred=Model.predict(X_test)\npred[1]",
   "execution_count": null,
   "outputs": [
    {
     "name": "stdout",
     "text": "186/186 [==============================] - 8s 40ms/step\n",
     "output_type": "stream"
    },
    {
     "output_type": "execute_result",
     "execution_count": 24,
     "data": {
      "text/plain": "array([[30.362919 ],\n       [22.589386 ],\n       [ 3.2806141],\n       ...,\n       [23.22636  ],\n       [13.937304 ],\n       [44.267036 ]], dtype=float32)"
     },
     "metadata": {}
    }
   ]
  },
  {
   "cell_type": "code",
   "metadata": {
    "cell_id": "bd04512c6b9441758c237a726e5700b0",
    "tags": [],
    "deepnote_to_be_reexecuted": false,
    "source_hash": "fa760f9b",
    "execution_start": 1656292043508,
    "execution_millis": 208,
    "deepnote_cell_type": "code",
    "deepnote_cell_height": 796.453125,
    "deepnote_output_heights": [
     null,
     252
    ]
   },
   "source": "def test_image(ind,X,Model):\n\n  plt.imshow(X[ind])\n\n  image_test=X[ind]\n\n  pred_1=Model.predict(np.array([image_test]))\n\n  sex_f=['Female','Male']\n  print(pred_1)\n\n  age=int(np.round(pred_1[1][0]))\n\n  sex=int(np.round(pred_1[0][0]))\n\n  print(\"Predicted Age: \"+ str(age))\n\n  print(\"Predicted Sex: \"+ sex_f[sex])\n\ntest_image(1980,X, Model)",
   "execution_count": null,
   "outputs": [
    {
     "name": "stdout",
     "text": "1/1 [==============================] - 0s 16ms/step\n[array([[0.7346225]], dtype=float32), array([[18.666937]], dtype=float32)]\nPredicted Age: 19\nPredicted Sex: Male\n",
     "output_type": "stream"
    },
    {
     "data": {
      "text/plain": "<Figure size 432x288 with 1 Axes>",
      "image/png": "[encoded data removed]"
     },
     "metadata": {
      "needs_background": "light",
      "image/png": {
       "width": 251,
       "height": 250
      }
     },
     "output_type": "display_data"
    }
   ]
  },
  {
   "cell_type": "code",
   "metadata": {
    "cell_id": "e4b4bbe032724f9db39fba2617cc4a59",
    "tags": [],
    "deepnote_to_be_reexecuted": false,
    "source_hash": "df7a5d95",
    "execution_start": 1656292043721,
    "execution_millis": 3,
    "deepnote_cell_type": "code",
    "deepnote_cell_height": 251.375,
    "deepnote_output_heights": [
     136.375
    ]
   },
   "source": "pred[0]\n",
   "execution_count": null,
   "outputs": [
    {
     "output_type": "execute_result",
     "execution_count": 26,
     "data": {
      "text/plain": "array([[0.17433955],\n       [0.38672933],\n       [0.46375272],\n       ...,\n       [0.6266057 ],\n       [0.8683509 ],\n       [0.89237154]], dtype=float32)"
     },
     "metadata": {}
    }
   ]
  },
  {
   "cell_type": "code",
   "metadata": {
    "cell_id": "170e671232a449eab4d4ce7282509617",
    "tags": [],
    "deepnote_to_be_reexecuted": false,
    "source_hash": "585cf6f8",
    "execution_start": 1656292043729,
    "execution_millis": 35,
    "deepnote_cell_type": "code",
    "deepnote_cell_height": 171
   },
   "source": "\nmodel_json = Model.to_json()\nwith open(\"model.json\", \"w\") as json_file:\n    json_file.write(model_json)\n# serialize weights to HDF5\nModel.save_weights(\"model.h5\")",
   "execution_count": null,
   "outputs": []
  },
  {
   "cell_type": "code",
   "metadata": {
    "cell_id": "1f7c85fda0d047fabc66a20314b2d2e9",
    "tags": [],
    "deepnote_to_be_reexecuted": false,
    "source_hash": "a3178507",
    "execution_start": 1656292043767,
    "execution_millis": 5231,
    "deepnote_cell_type": "code",
    "deepnote_cell_height": 315.171875
   },
   "source": "!sudo pip install h5py",
   "execution_count": null,
   "outputs": [
    {
     "name": "stdout",
     "text": "Collecting h5py\n  Downloading h5py-3.7.0-cp39-cp39-manylinux_2_12_x86_64.manylinux2010_x86_64.whl (4.5 MB)\n\u001b[2K     \u001b[90m━━━━━━━━━━━━━━━━━━━━━━━━━━━━━━━━━━━━━━━━\u001b[0m \u001b[32m4.5/4.5 MB\u001b[0m \u001b[31m106.6 MB/s\u001b[0m eta \u001b[36m0:00:00\u001b[0m\n\u001b[?25hCollecting numpy>=1.14.5\n  Downloading numpy-1.23.0-cp39-cp39-manylinux_2_17_x86_64.manylinux2014_x86_64.whl (17.1 MB)\n\u001b[2K     \u001b[90m━━━━━━━━━━━━━━━━━━━━━━━━━━━━━━━━━━━━━━━━\u001b[0m \u001b[32m17.1/17.1 MB\u001b[0m \u001b[31m81.3 MB/s\u001b[0m eta \u001b[36m0:00:00\u001b[0m\n\u001b[?25hInstalling collected packages: numpy, h5py\nSuccessfully installed h5py-3.7.0 numpy-1.23.0\n\u001b[33mWARNING: Running pip as the 'root' user can result in broken permissions and conflicting behaviour with the system package manager. It is recommended to use a virtual environment instead: https://pip.pypa.io/warnings/venv\u001b[0m\u001b[33m\n\u001b[0m\u001b[33mWARNING: You are using pip version 22.0.4; however, version 22.1.2 is available.\nYou should consider upgrading via the '/usr/local/bin/python -m pip install --upgrade pip' command.\u001b[0m\u001b[33m\n\u001b[0m",
     "output_type": "stream"
    }
   ]
  },
  {
   "cell_type": "code",
   "metadata": {
    "cell_id": "5b7caaba5f594b4a89bea96f76ba9979",
    "tags": [],
    "deepnote_to_be_reexecuted": false,
    "source_hash": "aa76e70b",
    "execution_start": 1656292048998,
    "execution_millis": 2,
    "deepnote_cell_type": "code",
    "deepnote_cell_height": 81
   },
   "source": " ",
   "execution_count": null,
   "outputs": []
  },
  {
   "cell_type": "markdown",
   "source": "<a style='text-decoration:none;line-height:16px;display:flex;color:#5B5B62;padding:10px;justify-content:end;' href='https://deepnote.com?utm_source=created-in-deepnote-cell&projectId=e398e659-25d9-4c3f-8424-c955520614a4' target=\"_blank\">\n<img alt='Created in deepnote.com' style='display:inline;max-height:16px;margin:0px;margin-right:7.5px;' src='data:image/svg+xml;base64,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' > </img>\nCreated in <span style='font-weight:600;margin-left:4px;'>Deepnote</span></a>",
   "metadata": {
    "tags": [],
    "created_in_deepnote_cell": true,
    "deepnote_cell_type": "markdown"
   }
  }
 ],
 "nbformat": 4,
 "nbformat_minor": 2,
 "metadata": {
  "orig_nbformat": 2,
  "deepnote": {},
  "deepnote_notebook_id": "07b49908-52a1-48b2-affa-7fd69596b258",
  "deepnote_execution_queue": []
 }
}